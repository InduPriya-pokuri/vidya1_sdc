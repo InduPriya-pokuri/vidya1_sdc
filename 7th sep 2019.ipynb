{
 "cells": [
  {
   "cell_type": "markdown",
   "metadata": {},
   "source": [
    "## python functions\n",
    "### map()\n",
    "### lambda()\n",
    "### filter()"
   ]
  },
  {
   "cell_type": "code",
   "execution_count": 12,
   "metadata": {},
   "outputs": [],
   "source": [
    "###MAP() FUNCTION\n",
    "def eO(n):\n",
    "    if n%2==0:\n",
    "        return True\n",
    "    else:\n",
    "        return False\n"
   ]
  },
  {
   "cell_type": "code",
   "execution_count": 13,
   "metadata": {},
   "outputs": [],
   "source": [
    "li=[1,2,3,4,5,6,7]"
   ]
  },
  {
   "cell_type": "markdown",
   "metadata": {},
   "source": [
    "#syntax of map()\n",
    "map(function,iterable)"
   ]
  },
  {
   "cell_type": "code",
   "execution_count": 24,
   "metadata": {},
   "outputs": [
    {
     "data": {
      "text/plain": [
       "[False, True, False, True]"
      ]
     },
     "execution_count": 24,
     "metadata": {},
     "output_type": "execute_result"
    }
   ],
   "source": [
    "v=map(eO,(1,2,3,4))\n",
    "list(v)"
   ]
  },
  {
   "cell_type": "code",
   "execution_count": 4,
   "metadata": {},
   "outputs": [
    {
     "data": {
      "text/plain": [
       "[8, 7, 4]"
      ]
     },
     "execution_count": 4,
     "metadata": {},
     "output_type": "execute_result"
    }
   ],
   "source": [
    "### len of given items in a tupple\n",
    "def myfunc(n):\n",
    "    return len(n)\n",
    "\n",
    "t=('gayathri','archana','maha')\n",
    "\n",
    "l=map(myfunc,t)\n",
    "list(l)\n",
    "\n"
   ]
  },
  {
   "cell_type": "code",
   "execution_count": 6,
   "metadata": {},
   "outputs": [
    {
     "ename": "TypeError",
     "evalue": "myfunc() takes 1 positional argument but 2 were given",
     "output_type": "error",
     "traceback": [
      "\u001b[1;31m---------------------------------------------------------------------------\u001b[0m",
      "\u001b[1;31mTypeError\u001b[0m                                 Traceback (most recent call last)",
      "\u001b[1;32m<ipython-input-6-06451f79d86d>\u001b[0m in \u001b[0;36m<module>\u001b[1;34m\u001b[0m\n\u001b[0;32m      1\u001b[0m \u001b[1;31m###Take inputs from two collections and add them and print new list\u001b[0m\u001b[1;33m\u001b[0m\u001b[1;33m\u001b[0m\u001b[1;33m\u001b[0m\u001b[0m\n\u001b[0;32m      2\u001b[0m \u001b[0ma\u001b[0m\u001b[1;33m=\u001b[0m\u001b[0mmap\u001b[0m\u001b[1;33m(\u001b[0m\u001b[0mmyfunc\u001b[0m\u001b[1;33m,\u001b[0m\u001b[1;33m(\u001b[0m\u001b[1;34m'gayathri'\u001b[0m\u001b[1;33m,\u001b[0m\u001b[1;34m'maha'\u001b[0m\u001b[1;33m,\u001b[0m\u001b[1;34m'nikhi'\u001b[0m\u001b[1;33m)\u001b[0m\u001b[1;33m,\u001b[0m\u001b[1;33m(\u001b[0m\u001b[1;34m'devi'\u001b[0m\u001b[1;33m,\u001b[0m\u001b[1;34m'lakshmi'\u001b[0m\u001b[1;33m,\u001b[0m\u001b[1;34m'archana'\u001b[0m\u001b[1;33m)\u001b[0m\u001b[1;33m)\u001b[0m\u001b[1;33m\u001b[0m\u001b[1;33m\u001b[0m\u001b[0m\n\u001b[1;32m----> 3\u001b[1;33m \u001b[0mlist\u001b[0m\u001b[1;33m(\u001b[0m\u001b[0ma\u001b[0m\u001b[1;33m)\u001b[0m\u001b[1;33m\u001b[0m\u001b[1;33m\u001b[0m\u001b[0m\n\u001b[0m",
      "\u001b[1;31mTypeError\u001b[0m: myfunc() takes 1 positional argument but 2 were given"
     ]
    }
   ],
   "source": [
    "###Take inputs from two collections and add them and print new list\n",
    "a=map(myfunc,('gayathri','maha','nikhi'),('devi','lakshmi','archana'))\n",
    "list(a)"
   ]
  },
  {
   "cell_type": "code",
   "execution_count": 18,
   "metadata": {},
   "outputs": [
    {
     "data": {
      "text/plain": [
       "[8, 125, 614125, 262144]"
      ]
     },
     "execution_count": 18,
     "metadata": {},
     "output_type": "execute_result"
    }
   ],
   "source": [
    "###Find the cubes of a given list of items by using map()\n",
    "\n",
    "def cubes(n):\n",
    "    return n**3\n",
    "\n",
    "li=[2,5,85,64]\n",
    "\n",
    "t=map(cubes,li)\n",
    "list(t)"
   ]
  },
  {
   "cell_type": "code",
   "execution_count": 22,
   "metadata": {},
   "outputs": [
    {
     "data": {
      "text/plain": [
       "[1, 8, 27, 64, 125]"
      ]
     },
     "execution_count": 22,
     "metadata": {},
     "output_type": "execute_result"
    }
   ],
   "source": [
    "### \n",
    "li=['1','2','3','4','5']\n",
    "\n",
    "li1=list(map(int,li))\n",
    "\n",
    "li2=list(map(cubes,li1))\n",
    "li2"
   ]
  },
  {
   "cell_type": "markdown",
   "metadata": {},
   "source": [
    "### Filter()"
   ]
  },
  {
   "cell_type": "code",
   "execution_count": null,
   "metadata": {},
   "outputs": [],
   "source": [
    "#syntax of filter()\n",
    "filter(function,iterable)"
   ]
  },
  {
   "cell_type": "code",
   "execution_count": 25,
   "metadata": {},
   "outputs": [
    {
     "data": {
      "text/plain": [
       "[2, 4]"
      ]
     },
     "execution_count": 25,
     "metadata": {},
     "output_type": "execute_result"
    }
   ],
   "source": [
    "v=filter(eO,(1,2,3,4))\n",
    "list(v)"
   ]
  },
  {
   "cell_type": "code",
   "execution_count": 2,
   "metadata": {},
   "outputs": [
    {
     "data": {
      "text/plain": [
       "[18, 56, 34, 87, 23]"
      ]
     },
     "execution_count": 2,
     "metadata": {},
     "output_type": "execute_result"
    }
   ],
   "source": [
    "def ages(n):\n",
    "    if n<18:\n",
    "        return False\n",
    "    else:\n",
    "        return True\n",
    "li=[18,56,34,2,1,87,23]\n",
    "\n",
    "li1=list(filter(ages,li))\n",
    "li1"
   ]
  },
  {
   "cell_type": "code",
   "execution_count": 1,
   "metadata": {},
   "outputs": [
    {
     "data": {
      "text/plain": [
       "[1, 2, 3, '4', '4', 67]"
      ]
     },
     "execution_count": 1,
     "metadata": {},
     "output_type": "execute_result"
    }
   ],
   "source": [
    "li=[1,2,3,'g','a','4','4','t',67]\n",
    "\n",
    "def digit(s):\n",
    "    s=str(s)\n",
    "    if s.isdigit():\n",
    "        return True\n",
    "    else:\n",
    "        return False\n",
    "    \n",
    "li1=list(filter(digit,li))\n",
    "li1"
   ]
  },
  {
   "cell_type": "markdown",
   "metadata": {},
   "source": [
    "### Lambda function"
   ]
  },
  {
   "cell_type": "code",
   "execution_count": null,
   "metadata": {},
   "outputs": [],
   "source": [
    "#syntax of lambda function\n",
    "lambda arguments:expression"
   ]
  },
  {
   "cell_type": "code",
   "execution_count": 1,
   "metadata": {},
   "outputs": [
    {
     "name": "stdout",
     "output_type": "stream",
     "text": [
      "10\n"
     ]
    }
   ],
   "source": [
    "x=lambda a:a+5\n",
    "print(x(5))"
   ]
  },
  {
   "cell_type": "code",
   "execution_count": 3,
   "metadata": {},
   "outputs": [
    {
     "name": "stdout",
     "output_type": "stream",
     "text": [
      "25\n"
     ]
    }
   ],
   "source": [
    "y=lambda a,b:a*b+5\n",
    "print(y(5,4))"
   ]
  },
  {
   "cell_type": "code",
   "execution_count": 8,
   "metadata": {},
   "outputs": [
    {
     "data": {
      "text/plain": [
       "6"
      ]
     },
     "execution_count": 8,
     "metadata": {},
     "output_type": "execute_result"
    }
   ],
   "source": [
    "def myfunc(n):\n",
    "    return lambda a:a*n\n",
    "\n",
    "x=myfunc(3)\n",
    "y=x(2)\n",
    "y"
   ]
  },
  {
   "cell_type": "code",
   "execution_count": 9,
   "metadata": {},
   "outputs": [
    {
     "data": {
      "text/plain": [
       "[1, 8, 27, 64, 125]"
      ]
     },
     "execution_count": 9,
     "metadata": {},
     "output_type": "execute_result"
    }
   ],
   "source": [
    "li=[1,2,3,4,5]\n",
    "li1=list(map(lambda x:x**3,li))\n",
    "li1"
   ]
  },
  {
   "cell_type": "code",
   "execution_count": 13,
   "metadata": {},
   "outputs": [
    {
     "data": {
      "text/plain": [
       "[1, 3, 5]"
      ]
     },
     "execution_count": 13,
     "metadata": {},
     "output_type": "execute_result"
    }
   ],
   "source": [
    "li=[1,2,3,4,5]\n",
    "li1=list(filter(lambda x:(x%2!=0),li))\n",
    "li1"
   ]
  },
  {
   "cell_type": "code",
   "execution_count": 27,
   "metadata": {},
   "outputs": [
    {
     "name": "stdout",
     "output_type": "stream",
     "text": [
      "[29, 15, 28, 5, 19, 13, 3, 9, 28, 10]\n",
      "[30, 12, 24, 2, 4, 10, 7, 7, 4, 6]\n",
      "[19, 29, 14, 3, 14, 27, 6, 5, 18, 10]\n",
      "[26, 18, 22, 3, 12, 16, 5, 7, 16, 8]\n",
      "[3, 12, 5, 7, 8]\n"
     ]
    }
   ],
   "source": [
    "from random import randint\n",
    "\n",
    "internal1=list(randint(0,30) for i in range(10))\n",
    "internal2=list(randint(0,30) for i in range(10))\n",
    "internal3=list(randint(0,30) for i in range(10))\n",
    "print(internal1)\n",
    "print(internal2)\n",
    "print(internal3)\n",
    "\n",
    "avgmarks=map(lambda x1,x2,x3:(x1+x2+x3)//3,internal1,internal2,internal3)\n",
    "print(list(avgmarks))\n",
    "\n",
    "failedmarks=filter(lambda x:x<15,map(lambda x1,x2,x3:(x1+x2+x3)//3,internal1,internal2,internal3))\n",
    "print(list(failedmarks))\n"
   ]
  },
  {
   "cell_type": "code",
   "execution_count": null,
   "metadata": {},
   "outputs": [],
   "source": []
  },
  {
   "cell_type": "code",
   "execution_count": 4,
   "metadata": {},
   "outputs": [
    {
     "name": "stdout",
     "output_type": "stream",
     "text": [
      "[False, True, False, True, False, True, False, True, False]\n"
     ]
    }
   ],
   "source": [
    "#n = int(input())\n",
    "def even(n):\n",
    "    if n%2 == 0:\n",
    "        return True\n",
    "    return False\n",
    "l = map(even,[1,2,3,4,5,6,7,8,9])\n",
    "print(list(l))"
   ]
  },
  {
   "cell_type": "code",
   "execution_count": 5,
   "metadata": {},
   "outputs": [
    {
     "name": "stdout",
     "output_type": "stream",
     "text": [
      "[2, 4, 6, 8]\n"
     ]
    }
   ],
   "source": [
    "#n = int(input())\n",
    "def even(n):\n",
    "    if n%2 == 0:\n",
    "        return True\n",
    "    return False\n",
    "l = filter(even,[1,2,3,4,5,6,7,8,9])\n",
    "print(list(l))"
   ]
  },
  {
   "cell_type": "code",
   "execution_count": 6,
   "metadata": {},
   "outputs": [
    {
     "name": "stdout",
     "output_type": "stream",
     "text": [
      "[True, True, False, False, False, True]\n"
     ]
    }
   ],
   "source": [
    "def age(n):\n",
    "    if n>18:\n",
    "        return True\n",
    "    return False\n",
    "l = map(age,[24,35,10,13,17,45])\n",
    "print(list(l))"
   ]
  },
  {
   "cell_type": "code",
   "execution_count": 7,
   "metadata": {},
   "outputs": [
    {
     "name": "stdout",
     "output_type": "stream",
     "text": [
      "[24, 35, 45]\n"
     ]
    }
   ],
   "source": [
    "def age(n):\n",
    "    if n>18:\n",
    "        return True\n",
    "    return False\n",
    "l = filter(age,[24,35,10,13,17,45])\n",
    "print(list(l))"
   ]
  },
  {
   "cell_type": "code",
   "execution_count": 8,
   "metadata": {},
   "outputs": [
    {
     "name": "stdout",
     "output_type": "stream",
     "text": [
      "abc 12 dg 4 yh 5\n",
      "[False, True, False, True, False, True]\n"
     ]
    }
   ],
   "source": [
    "n = input().split()\n",
    "def digit(n):\n",
    "    for i in n:\n",
    "        if i.isdigit():\n",
    "            return True\n",
    "        return False\n",
    "l = map(digit,n)\n",
    "print(list(l))"
   ]
  },
  {
   "cell_type": "code",
   "execution_count": 9,
   "metadata": {},
   "outputs": [
    {
     "name": "stdout",
     "output_type": "stream",
     "text": [
      "bc 12 dg 4 yh 5\n",
      "['12', '4', '5']\n"
     ]
    }
   ],
   "source": [
    "n = input().split()\n",
    "def digit(n):\n",
    "    for i in n:\n",
    "        if i.isdigit():\n",
    "            return True\n",
    "        return False\n",
    "l = filter(digit,n)\n",
    "print(list(l))"
   ]
  },
  {
   "cell_type": "code",
   "execution_count": null,
   "metadata": {},
   "outputs": [],
   "source": []
  }
 ],
 "metadata": {
  "kernelspec": {
   "display_name": "Python 3",
   "language": "python",
   "name": "python3"
  },
  "language_info": {
   "codemirror_mode": {
    "name": "ipython",
    "version": 3
   },
   "file_extension": ".py",
   "mimetype": "text/x-python",
   "name": "python",
   "nbconvert_exporter": "python",
   "pygments_lexer": "ipython3",
   "version": "3.7.3"
  }
 },
 "nbformat": 4,
 "nbformat_minor": 2
}
