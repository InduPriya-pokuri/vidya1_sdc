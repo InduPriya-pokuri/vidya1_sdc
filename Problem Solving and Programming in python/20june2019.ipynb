{
 "cells": [
  {
   "cell_type": "code",
   "execution_count": 9,
   "metadata": {},
   "outputs": [
    {
     "name": "stdout",
     "output_type": "stream",
     "text": [
      "102569\n",
      "ILLegal ISBN\n"
     ]
    }
   ],
   "source": [
    "n=list(map(int,input()))\n",
    "if len(n)!=10:\n",
    "    print(\"ILLegal ISBN\")\n",
    "elif sum(map(lambda x,y:x*y,n,range(1,11)))%11==0:\n",
    "    print(\"Legal ISBN\")\n",
    "else:\n",
    "    print(\"illegal ISBN\")\n"
   ]
  },
  {
   "cell_type": "code",
   "execution_count": null,
   "metadata": {},
   "outputs": [],
   "source": [
    "## Two Strings\n",
    "def  Strings(s1,s2):\n",
    "    if (s1.length()!=s2.length()):\n",
    "        return 0\n",
    "    s1=sorted(s1)\n",
    "    s2=sorted(s2)\n",
    "s=input()\n",
    "s1 = input()\n",
    "s2 = input()\n",
    "for i in range(0, s):\n",
    "    if s1[i] != s2[i]:\n",
    "        return  \n",
    "if Strings(s1, s2):  \n",
    "    print (\"YES\") \n",
    "else:  \n",
    "    print (\"NO\") \n",
    "  "
   ]
  },
  {
   "cell_type": "code",
   "execution_count": null,
   "metadata": {},
   "outputs": [],
   "source": []
  },
  {
   "cell_type": "code",
   "execution_count": null,
   "metadata": {},
   "outputs": [],
   "source": []
  }
 ],
 "metadata": {
  "kernelspec": {
   "display_name": "Python 3",
   "language": "python",
   "name": "python3"
  },
  "language_info": {
   "codemirror_mode": {
    "name": "ipython",
    "version": 3
   },
   "file_extension": ".py",
   "mimetype": "text/x-python",
   "name": "python",
   "nbconvert_exporter": "python",
   "pygments_lexer": "ipython3",
   "version": "3.7.3"
  }
 },
 "nbformat": 4,
 "nbformat_minor": 2
}
