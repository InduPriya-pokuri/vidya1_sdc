{
 "cells": [
  {
   "cell_type": "markdown",
   "metadata": {},
   "source": [
    "## lambda function"
   ]
  },
  {
   "cell_type": "markdown",
   "metadata": {},
   "source": [
    "* lambda argument:expression"
   ]
  },
  {
   "cell_type": "code",
   "execution_count": null,
   "metadata": {},
   "outputs": [],
   "source": [
    "# single variable\n",
    "a=lambda x:x+10\n",
    "print(\"sum=\",a(20))"
   ]
  },
  {
   "cell_type": "code",
   "execution_count": null,
   "metadata": {},
   "outputs": [],
   "source": [
    "# Two variable\n",
    "a=lambda x,y:x+y\n",
    "print(\"sum=\",a(10,20))"
   ]
  },
  {
   "cell_type": "code",
   "execution_count": 1,
   "metadata": {},
   "outputs": [
    {
     "name": "stdout",
     "output_type": "stream",
     "text": [
      "[False, True, True, True, False, False]\n"
     ]
    }
   ],
   "source": [
    "# using map function in lambda\n",
    "x=[5,22,28,40,27,11]\n",
    "y=list(map(lambda a:(a%2==0),x))\n",
    "print(y)"
   ]
  },
  {
   "cell_type": "code",
   "execution_count": null,
   "metadata": {},
   "outputs": [],
   "source": [
    "# using filter \n",
    "x=[5,22,28,40,27,11]\n",
    "y=list(filter(lambda a:(a%2==0),x))\n",
    "print(y)"
   ]
  },
  {
   "cell_type": "code",
   "execution_count": 1,
   "metadata": {},
   "outputs": [
    {
     "name": "stdout",
     "output_type": "stream",
     "text": [
      "[8, 10, 14, 12, 12, 12]\n"
     ]
    }
   ],
   "source": [
    "# random module\n",
    "from random import randint\n",
    "i1=list(randint(0,30) for i in range(10))\n",
    "i2=list(randint(0,30) for i in range(10))\n",
    "i3=list(randint(0,30) for i in range(10))\n",
    "avg=map(lambda a,b,c:(a+b+c)//3,i1,i2,i3)\n",
    "#print(list(avg))\n",
    "failed=list(filter(lambda x:x<15,avg))\n",
    "print(failed)"
   ]
  },
  {
   "cell_type": "code",
   "execution_count": null,
   "metadata": {},
   "outputs": [],
   "source": [
    "#funtools module\n",
    "from functools import reduce\n",
    "reduce(lambda x,y:x+y,[12,13,14,15])"
   ]
  },
  {
   "cell_type": "markdown",
   "metadata": {},
   "source": [
    "## generators\n"
   ]
  },
  {
   "cell_type": "code",
   "execution_count": null,
   "metadata": {},
   "outputs": [],
   "source": [
    "def gene(a):\n",
    "    yield 1\n",
    "    yield 2\n",
    "    yield 3\n",
    "b=gene(a)\n",
    "print(next(b))\n",
    "print(next(b))\n",
    "print(next(b))"
   ]
  },
  {
   "cell_type": "code",
   "execution_count": null,
   "metadata": {},
   "outputs": [],
   "source": [
    "def fib():\n",
    "    a,b=0,1\n",
    "    while True:\n",
    "        yield a\n",
    "        a,b=b,a+b\n",
    "for i in fib():\n",
    "    if i<50:\n",
    "        print(i,end=\" \")"
   ]
  },
  {
   "cell_type": "code",
   "execution_count": null,
   "metadata": {},
   "outputs": [],
   "source": [
    "x=(i+1 for i in range(10))\n",
    "for j in x:\n",
    "    print(j)"
   ]
  },
  {
   "cell_type": "markdown",
   "metadata": {},
   "source": [
    "## Datavisualization\n",
    "* used for shell,script,web developing toolkit\n",
    "* basemap,cartopy,excel tools, mplot3d"
   ]
  },
  {
   "cell_type": "code",
   "execution_count": 2,
   "metadata": {},
   "outputs": [
    {
     "data": {
      "text/plain": [
       "<Figure size 640x480 with 1 Axes>"
      ]
     },
     "metadata": {},
     "output_type": "display_data"
    }
   ],
   "source": [
    "## Line graph\n",
    "from matplotlib import pyplot as plt\n",
    "plt.plot([2,5,8,9],[1,4,7,10])\n",
    "plt.show()"
   ]
  },
  {
   "cell_type": "code",
   "execution_count": null,
   "metadata": {},
   "outputs": [],
   "source": [
    "x=[2,3,4,7]\n",
    "y=[9,7,4,1]\n",
    "x1=[2,5,8,5]\n",
    "y1=[6,3,3,7]\n",
    "plt.plot(x,y,color='r',label=\"linenoone\",linewidth=5)\n",
    "plt.plot(x1,y1,color='b',label=\"linenotwo\",linewidth=5)\n",
    "plt.title('Linegraph')\n",
    "plt.xlabel('X-axis')\n",
    "plt.ylabel('Y-axis')\n",
    "plt.legend()\n",
    "plt.grid()\n",
    "plt.show()"
   ]
  },
  {
   "cell_type": "code",
   "execution_count": null,
   "metadata": {},
   "outputs": [],
   "source": [
    "##Bar graphs\n",
    "plt.bar([10,20,30,40],[15,30,40,50],label=\"Values\",width=5)\n",
    "plt.bar([25,15,35],[10,20,40],label=\"information\",width=5)\n",
    "plt.legend()\n",
    "plt.show()"
   ]
  },
  {
   "cell_type": "code",
   "execution_count": 4,
   "metadata": {},
   "outputs": [
    {
     "data": {
      "image/png": "[encoded data removed]",
      "text/plain": [
       "<Figure size 432x288 with 1 Axes>"
      ]
     },
     "metadata": {
      "needs_background": "light"
     },
     "output_type": "display_data"
    }
   ],
   "source": [
    "##Histogram\n",
    "age=[18,20,22,24,26]\n",
    "v=[0,10,20,30,40]\n",
    "plt.hist(age,v,histtype='bar',rwidth=0.5)\n",
    "plt.title('Histogram')\n",
    "plt.xlabel('X-axis')\n",
    "plt.ylabel('Y-axis')\n",
    "plt.show()"
   ]
  },
  {
   "cell_type": "code",
   "execution_count": 5,
   "metadata": {},
   "outputs": [
    {
     "data": {
      "image/png": "[encoded data removed]",
      "text/plain": [
       "<Figure size 432x288 with 1 Axes>"
      ]
     },
     "metadata": {
      "needs_background": "light"
     },
     "output_type": "display_data"
    }
   ],
   "source": [
    "##Scatter graph\n",
    "a=[0.5,1,1.5,2,2.5,3,3.5]\n",
    "b=[1,3,5,6,8,10,2]\n",
    "a1=[12,2.3,4.5,6,6.5]\n",
    "b1=[2.3,4.5,6,7.8,9]\n",
    "plt.scatter(a,b,label='high to low',color='r')\n",
    "plt.scatter(a1,b1,label='low to high',color='b')\n",
    "plt.title('Scatter graph')\n",
    "plt.xlabel('X-axis')\n",
    "plt.ylabel('Y-axis')\n",
    "plt.legend()\n",
    "plt.show()"
   ]
  },
  {
   "cell_type": "code",
   "execution_count": 6,
   "metadata": {},
   "outputs": [
    {
     "data": {
      "image/png": "[encoded data removed]",
      "text/plain": [
       "<Figure size 432x288 with 1 Axes>"
      ]
     },
     "metadata": {
      "needs_background": "light"
     },
     "output_type": "display_data"
    }
   ],
   "source": [
    "## Areagraph\n",
    "days=[1,2,3,4,5]\n",
    "sleeping=[20,30,40,50,60]\n",
    "eating=[40,50,60,70,80]\n",
    "study=[10,20,30,40,15]\n",
    "plt.plot([],[],color='r',label=\"sleeping\",linewidth=5)\n",
    "plt.plot([],[],color='b',label='eating',linewidth=5)\n",
    "plt.plot([],[],color='m',label='study',linewidth=5)\n",
    "plt.stackplot(days,sleeping,eating,study,colors=['r','b','m'])\n",
    "plt.title('Area-Graph')\n",
    "plt.xlabel('X-axis')\n",
    "plt.ylabel('Y-axis')\n",
    "plt.legend()\n",
    "plt.show()"
   ]
  },
  {
   "cell_type": "code",
   "execution_count": null,
   "metadata": {},
   "outputs": [],
   "source": [
    "##pie chart\n",
    "plt.pie([10,20,30,40])\n",
    "plt.show()"
   ]
  },
  {
   "cell_type": "code",
   "execution_count": 13,
   "metadata": {},
   "outputs": [
    {
     "data": {
      "image/png": "[encoded data removed]",
      "text/plain": [
       "<Figure size 432x288 with 1 Axes>"
      ]
     },
     "metadata": {},
     "output_type": "display_data"
    }
   ],
   "source": [
    "from matplotlib import pyplot as plt\n",
    "days=[1,2,3,4,5]\n",
    "sleeping=[7,8,2,3,2]\n",
    "eating=[8,9,6,5,4]\n",
    "studying=[2,3,4,5,6]\n",
    "playing=[12,7,9,8,5]\n",
    "slices=[7,2,2,13]\n",
    "activities=['sleeping','eating','studying','playing']\n",
    "cols=['r','b','m','c']\n",
    "plt.pie(slices,labels=activities,colors=cols,startangle=90,shadow=True,autopct='%1.1f%%')\n",
    "plt.show()"
   ]
  },
  {
   "cell_type": "code",
   "execution_count": null,
   "metadata": {},
   "outputs": [],
   "source": []
  },
  {
   "cell_type": "code",
   "execution_count": null,
   "metadata": {},
   "outputs": [],
   "source": []
  },
  {
   "cell_type": "code",
   "execution_count": null,
   "metadata": {},
   "outputs": [],
   "source": []
  },
  {
   "cell_type": "code",
   "execution_count": 7,
   "metadata": {},
   "outputs": [
    {
     "data": {
      "image/png": "[encoded data removed]",
      "text/plain": [
       "<Figure size 432x288 with 1 Axes>"
      ]
     },
     "metadata": {},
     "output_type": "display_data"
    }
   ],
   "source": [
    "days=[1,2,3,4,5]\n",
    "sleeping=[10,20,30,40,50]\n",
    "eating=[50,60,70,20,11]\n",
    "studying=[10,5,6,12,21]\n",
    "playing=[15,25,35,45,13]\n",
    "slices=[7,2,2,13]\n",
    "activities=['sleeping','eating','studying','playing']\n",
    "cols=['r','b','m','c']\n",
    "plt.pie(slices,labels=activities,colors=cols,startangle=90,shadow=True,autopct='%1.1f%%')\n",
    "plt.show()"
   ]
  },
  {
   "cell_type": "code",
   "execution_count": 7,
   "metadata": {},
   "outputs": [
    {
     "name": "stdout",
     "output_type": "stream",
     "text": [
      "6 8 2 1\n"
     ]
    },
    {
     "data": {
      "text/plain": [
       "[1, 2, 6, 8]"
      ]
     },
     "execution_count": 7,
     "metadata": {},
     "output_type": "execute_result"
    }
   ],
   "source": [
    "n=list(map(int,input().split()))\n",
    "n.sort()\n",
    "n"
   ]
  },
  {
   "cell_type": "code",
   "execution_count": null,
   "metadata": {},
   "outputs": [],
   "source": []
  }
 ],
 "metadata": {
  "kernelspec": {
   "display_name": "Python 3",
   "language": "python",
   "name": "python3"
  },
  "language_info": {
   "codemirror_mode": {
    "name": "ipython",
    "version": 3
   },
   "file_extension": ".py",
   "mimetype": "text/x-python",
   "name": "python",
   "nbconvert_exporter": "python",
   "pygments_lexer": "ipython3",
   "version": "3.7.3"
  }
 },
 "nbformat": 4,
 "nbformat_minor": 2
}
