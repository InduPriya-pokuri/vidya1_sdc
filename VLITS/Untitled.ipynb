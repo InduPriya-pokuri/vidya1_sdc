{
 "cells": [
  {
   "cell_type": "code",
   "execution_count": 1,
   "metadata": {},
   "outputs": [
    {
     "name": "stdout",
     "output_type": "stream",
     "text": [
      "[True, False, True, False, True, False, True, False]\n"
     ]
    }
   ],
   "source": [
    "def even(n):\n",
    "    if n%2==0:\n",
    "        return True\n",
    "    else:\n",
    "        return False\n",
    "n=[2,3,4,5,6,7,8,9]\n",
    "print(list(map(even,n)))"
   ]
  },
  {
   "cell_type": "code",
   "execution_count": 2,
   "metadata": {},
   "outputs": [
    {
     "name": "stdout",
     "output_type": "stream",
     "text": [
      "[9, 7, 3, 4]\n"
     ]
    }
   ],
   "source": [
    "def length(s):\n",
    "    return len(s)\n",
    "s=('sreevidya','archana','anu','anju')\n",
    "print(list(map(length,s)))"
   ]
  },
  {
   "cell_type": "code",
   "execution_count": 3,
   "metadata": {},
   "outputs": [
    {
     "name": "stdout",
     "output_type": "stream",
     "text": [
      "[True, True, True, False, True, False, False]\n"
     ]
    }
   ],
   "source": [
    "def age(n):\n",
    "    if n>18:\n",
    "        return True\n",
    "    else:\n",
    "        return False\n",
    "n=[23,45,19,2,34,10,16]\n",
    "print(list(map(age,n)))"
   ]
  },
  {
   "cell_type": "code",
   "execution_count": 4,
   "metadata": {},
   "outputs": [
    {
     "name": "stdout",
     "output_type": "stream",
     "text": [
      "[2, 34, 10, 16]\n"
     ]
    }
   ],
   "source": [
    "print(list(filter(even,n)))"
   ]
  },
  {
   "cell_type": "code",
   "execution_count": 5,
   "metadata": {},
   "outputs": [
    {
     "name": "stdout",
     "output_type": "stream",
     "text": [
      "[23, 45, 19, 34]\n"
     ]
    }
   ],
   "source": [
    "print(list(filter(age,n)))"
   ]
  },
  {
   "cell_type": "code",
   "execution_count": 10,
   "metadata": {},
   "outputs": [
    {
     "data": {
      "text/plain": [
       "[True, False, True, False, False, True, False]"
      ]
     },
     "execution_count": 10,
     "metadata": {},
     "output_type": "execute_result"
    }
   ],
   "source": [
    "x=[2,3,4,5,7,8,19]\n",
    "y=list(map(lambda a:(a%2==0),x))\n",
    "y"
   ]
  },
  {
   "cell_type": "code",
   "execution_count": 11,
   "metadata": {},
   "outputs": [
    {
     "data": {
      "text/plain": [
       "[2, 4, 8]"
      ]
     },
     "execution_count": 11,
     "metadata": {},
     "output_type": "execute_result"
    }
   ],
   "source": [
    "x=[2,3,4,5,7,8,19]\n",
    "y=list(filter(lambda a:(a%2==0),x))\n",
    "y"
   ]
  },
  {
   "cell_type": "code",
   "execution_count": 15,
   "metadata": {},
   "outputs": [
    {
     "name": "stdout",
     "output_type": "stream",
     "text": [
      "[9, 13, 19, 8, 12, 4, 18, 24, 15, 12]\n",
      "[9, 13, 8, 12, 4, 12]\n"
     ]
    }
   ],
   "source": [
    "from random import randint\n",
    "i1=list(randint(0,30) for i in range(10))\n",
    "i2=list(randint(0,30) for i in range(10))\n",
    "i3=list(randint(0,30) for i in range(10))\n",
    "avg=list(map(lambda a,b,c:(a+b+c)//3,i1,i2,i3))\n",
    "print(avg)\n",
    "res=list(filter(lambda x:x<15,avg))\n",
    "print(res)"
   ]
  },
  {
   "cell_type": "code",
   "execution_count": null,
   "metadata": {},
   "outputs": [],
   "source": []
  }
 ],
 "metadata": {
  "kernelspec": {
   "display_name": "Python 3",
   "language": "python",
   "name": "python3"
  },
  "language_info": {
   "codemirror_mode": {
    "name": "ipython",
    "version": 3
   },
   "file_extension": ".py",
   "mimetype": "text/x-python",
   "name": "python",
   "nbconvert_exporter": "python",
   "pygments_lexer": "ipython3",
   "version": "3.7.3"
  }
 },
 "nbformat": 4,
 "nbformat_minor": 2
}
